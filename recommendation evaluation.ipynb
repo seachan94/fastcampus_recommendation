{
 "cells": [
  {
   "cell_type": "markdown",
   "id": "f6f08cfa-1456-4202-a28a-492ed32f3a66",
   "metadata": {},
   "source": [
    "## 정량적 평가 - RMSE\n",
    "--------------------\n",
    "* 평균 제곱근 편차\n",
    "* 실제 값 vs 모델 예측값 차이로 나타냄\n",
    "* Scale-dependent하다 - 예측 대상 값에 영향을 받는다\n",
    "  - 스케일에 의존도가 있다"
   ]
  },
  {
   "cell_type": "markdown",
   "id": "91c146c1-7ab1-4963-8dc0-1efe029f7193",
   "metadata": {},
   "source": [
    "NDCG\n",
    "----------\n",
    "* 랭킹 추천에 많이 사용되는 평가 지표\n",
    "* 기존 정보검색에서 많이 사용했엏다\n",
    "* top-N 랭킹 리스트 만들고, 더 관심있거나 관련성 높은 아이템 포함 여부 평가\n",
    "* 순위에 가중치를 주고, 단순한 랭킹이 아닌 데이터의 성향을 반영하기 위한 평가 지표\n",
    "* MAP(mean Average Precision), Top K Precision/Recall 등 평가 방법 보안\n",
    "  - 추천 또는 정보 검색에서 특정 아이템에 biased ehls ruddn\n",
    "  - 이미 유명하고 잘 알려진 인기있는 아이템 또는 한명의 사용자에 의해 만들어진 랭킹 등 문제"
   ]
  },
  {
   "cell_type": "markdown",
   "id": "b993964e-5a2d-48dc-9b52-a29c00525c90",
   "metadata": {},
   "source": [
    "## OTHER\n",
    "-------\n",
    "1. Top-k\n",
    "2. MAP (mean average Precsion)"
   ]
  },
  {
   "cell_type": "code",
   "execution_count": 3,
   "id": "5523b8f5-e6b7-4c17-8f31-74118249bbed",
   "metadata": {},
   "outputs": [],
   "source": [
    "import warnings\n",
    "warnings.filterwarnings(\"ignore\")\n",
    "import numpy as np\n",
    "import pandas as pd\n",
    "from matplotlib import pyplot as plt\n",
    "import os\n",
    "from tqdm import tqdm\n",
    "\n",
    "from sklearn.model_selection import train_test_split\n",
    "from sklearn.metrics import mean_squared_error\n",
    "from scipy.sparse import csr_matrix\n",
    "%matplotlib inline\n",
    "\n",
    "\n",
    "path = 'data/ml-latest-small/'\n",
    "rating_df = pd.read_csv(os.path.join(path+'ratings.csv'),encoding = 'utf-8')\n",
    "tags_df = pd.read_csv(os.path.join(path+'tags.csv'),encoding = 'utf-8')\n",
    "movies_df = pd.read_csv(os.path.join(path+'movies.csv'),index_col = 'movieId',encoding = 'utf-8')"
   ]
  },
  {
   "cell_type": "markdown",
   "id": "046feb21-63b1-4853-b097-0ce92fe66419",
   "metadata": {},
   "source": [
    "* 각 유저가 어떤 영화에 평점을 줬는지에 대한 sparse_matrix"
   ]
  },
  {
   "cell_type": "code",
   "execution_count": 4,
   "id": "0a88e300-1614-4635-86ef-62e7bf99d0ff",
   "metadata": {},
   "outputs": [],
   "source": [
    "user_movie_matrix = rating_df.pivot(\n",
    "    index = 'movieId',\n",
    "    columns = 'userId',\n",
    "    values = 'rating'\n",
    ").fillna(0)"
   ]
  },
  {
   "cell_type": "code",
   "execution_count": 9,
   "id": "7d34d1d6-b999-4a9a-8f0c-987c007bb827",
   "metadata": {},
   "outputs": [],
   "source": [
    "#convert dataframe of movie features to scipy sparse matrix\n",
    "\n",
    "sparse_mat = csr_matrix(user_movie_matrix.values)"
   ]
  },
  {
   "cell_type": "code",
   "execution_count": 13,
   "id": "0d9c29c8-ed6f-4309-900f-cd82638cbaee",
   "metadata": {},
   "outputs": [],
   "source": [
    "#각 user가 rating을 준 movie 갯수\n",
    "user_info_df = pd.DataFrame(\n",
    "    data = [sum(list(user_movie_matrix[int(x)].value_counts())[1:]) for x in user_movie_matrix.columns],\n",
    "    index = user_movie_matrix.columns,\n",
    "    columns = ['movies_rated']\n",
    ")"
   ]
  },
  {
   "cell_type": "code",
   "execution_count": 19,
   "id": "394668db-5fc5-4c28-8caa-c3efec9bcafb",
   "metadata": {},
   "outputs": [],
   "source": [
    "train_df , test_df = train_test_split(rating_df,test_size=0.2,random_state=1234)"
   ]
  },
  {
   "cell_type": "code",
   "execution_count": 20,
   "id": "7fedc390-dc2f-47d0-b331-c6a6b979ec74",
   "metadata": {},
   "outputs": [
    {
     "data": {
      "text/plain": [
       "0"
      ]
     },
     "execution_count": 20,
     "metadata": {},
     "output_type": "execute_result"
    }
   ],
   "source": [
    "len(list(set(test_df['userId'].unique())-set(train_df['userId'])))"
   ]
  },
  {
   "cell_type": "markdown",
   "id": "5cd29da4-0b0e-443d-84f4-bc59e8e387c7",
   "metadata": {},
   "source": [
    "# random으로 예측 해버리기"
   ]
  },
  {
   "cell_type": "code",
   "execution_count": 22,
   "id": "9412103d-da72-4b1d-b9a2-0777eed9d791",
   "metadata": {},
   "outputs": [],
   "source": [
    "ratings_range = np.arange(0.5,5.5,step = 0.5)"
   ]
  },
  {
   "cell_type": "code",
   "execution_count": 24,
   "id": "d3db5507-423b-44b6-90c8-fb272b5ca8a7",
   "metadata": {},
   "outputs": [],
   "source": [
    "import random\n",
    "pred_random = [random.choice(ratings_range) for x in range(len(test_df))]"
   ]
  },
  {
   "cell_type": "code",
   "execution_count": 27,
   "id": "af4eacdb-9a50-4060-8d2e-6f2ca1cf9550",
   "metadata": {},
   "outputs": [],
   "source": [
    "test_df['random_rating_pred'] = pred_random"
   ]
  },
  {
   "cell_type": "code",
   "execution_count": 28,
   "id": "f3319d19-3857-4101-be0b-f441065c43f7",
   "metadata": {},
   "outputs": [],
   "source": [
    "mse = mean_squared_error(\n",
    "    y_true = test_df['rating'].values,\n",
    "    y_pred = test_df['random_rating_pred'].values\n",
    ")"
   ]
  },
  {
   "cell_type": "code",
   "execution_count": 30,
   "id": "4e588ab8-a1df-469e-a003-a109bf0877a2",
   "metadata": {},
   "outputs": [],
   "source": [
    "rmse = np.sqrt(mse)"
   ]
  },
  {
   "cell_type": "code",
   "execution_count": 32,
   "id": "a46ce167-14da-4274-90e5-853aa372c6f0",
   "metadata": {},
   "outputs": [
    {
     "data": {
      "text/plain": [
       "(3.7081267354224514, 1.9256496917722215)"
      ]
     },
     "execution_count": 32,
     "metadata": {},
     "output_type": "execute_result"
    }
   ],
   "source": [
    "mse, rmse # 평균적으로 1.9만큼 절대값 차이가 존재한다. 라는 뜻"
   ]
  },
  {
   "cell_type": "markdown",
   "id": "8ce40059-ae35-4bec-af36-c2310c71beed",
   "metadata": {},
   "source": [
    "## 영화 평균 평점기반 예측\n",
    "   - train 데이터에 무비가 없으면 랜덤으로 추천"
   ]
  },
  {
   "cell_type": "code",
   "execution_count": 34,
   "id": "3b568c7b-6c80-4b09-b8ef-56d4d909567a",
   "metadata": {},
   "outputs": [
    {
     "data": {
      "text/html": [
       "<div>\n",
       "<style scoped>\n",
       "    .dataframe tbody tr th:only-of-type {\n",
       "        vertical-align: middle;\n",
       "    }\n",
       "\n",
       "    .dataframe tbody tr th {\n",
       "        vertical-align: top;\n",
       "    }\n",
       "\n",
       "    .dataframe thead th {\n",
       "        text-align: right;\n",
       "    }\n",
       "</style>\n",
       "<table border=\"1\" class=\"dataframe\">\n",
       "  <thead>\n",
       "    <tr style=\"text-align: right;\">\n",
       "      <th></th>\n",
       "      <th>userId</th>\n",
       "      <th>rating</th>\n",
       "      <th>timestamp</th>\n",
       "    </tr>\n",
       "    <tr>\n",
       "      <th>movieId</th>\n",
       "      <th></th>\n",
       "      <th></th>\n",
       "      <th></th>\n",
       "    </tr>\n",
       "  </thead>\n",
       "  <tbody>\n",
       "    <tr>\n",
       "      <th>1</th>\n",
       "      <td>307.473373</td>\n",
       "      <td>3.893491</td>\n",
       "      <td>1.128439e+09</td>\n",
       "    </tr>\n",
       "    <tr>\n",
       "      <th>2</th>\n",
       "      <td>327.475610</td>\n",
       "      <td>3.396341</td>\n",
       "      <td>1.142893e+09</td>\n",
       "    </tr>\n",
       "    <tr>\n",
       "      <th>3</th>\n",
       "      <td>266.386364</td>\n",
       "      <td>3.454545</td>\n",
       "      <td>9.900434e+08</td>\n",
       "    </tr>\n",
       "  </tbody>\n",
       "</table>\n",
       "</div>"
      ],
      "text/plain": [
       "             userId    rating     timestamp\n",
       "movieId                                    \n",
       "1        307.473373  3.893491  1.128439e+09\n",
       "2        327.475610  3.396341  1.142893e+09\n",
       "3        266.386364  3.454545  9.900434e+08"
      ]
     },
     "execution_count": 34,
     "metadata": {},
     "output_type": "execute_result"
    }
   ],
   "source": [
    "train_movie_df = train_df.groupby('movieId').mean()\n",
    "train_movie_df.head(3)"
   ]
  },
  {
   "cell_type": "code",
   "execution_count": 35,
   "id": "69009f45-a3de-4211-98a8-f1edd62d3cf9",
   "metadata": {},
   "outputs": [],
   "source": [
    "def avg_rating_prediction(training_set,x):\n",
    "    if x in training_set.index:\n",
    "        pred_rating = training_set.loc[x]['rating']\n",
    "    else:\n",
    "        pred_rating = random.choice(ratings_range)\n",
    "    return pred_rating"
   ]
  },
  {
   "cell_type": "code",
   "execution_count": 36,
   "id": "8bde267a-2b58-4a4d-91b6-ae9df3384383",
   "metadata": {},
   "outputs": [],
   "source": [
    "test_df['pred_rating_movie'] = test_df['movieId'].apply(\n",
    "    lambda x : avg_rating_prediction(train_movie_df,x)\n",
    ")"
   ]
  },
  {
   "cell_type": "code",
   "execution_count": 37,
   "id": "881f7702-b50d-44da-9ab7-2d9632a43064",
   "metadata": {},
   "outputs": [],
   "source": [
    "avg_movie_mse = mean_squared_error(\n",
    "    y_true = test_df['rating'].values,\n",
    "    y_pred = test_df['pred_rating_movie'].values\n",
    ")\n",
    "avg_movie_rmse = np.sqrt(avg_movie_mse)"
   ]
  },
  {
   "cell_type": "code",
   "execution_count": 40,
   "id": "c0006ae2-536a-4af0-8a18-f612d45740da",
   "metadata": {},
   "outputs": [
    {
     "data": {
      "text/plain": [
       "(1.0493928175041145, 1.0243987590309325)"
      ]
     },
     "execution_count": 40,
     "metadata": {},
     "output_type": "execute_result"
    }
   ],
   "source": [
    "avg_movie_mse,avg_movie_rmse \n",
    "# 생각보다 사람들의 평점을 랜덤하게 준 것은 아니다. = 경향성이 있다.\n",
    "# 왜냐하면 랜덤하게 예측해서 평가한 것 보다 많이 수치가 떨어져 있다."
   ]
  },
  {
   "cell_type": "code",
   "execution_count": 41,
   "id": "eebc9a93-9f42-425d-9eaf-3cb1dc0ff02f",
   "metadata": {},
   "outputs": [
    {
     "data": {
      "text/html": [
       "<div>\n",
       "<style scoped>\n",
       "    .dataframe tbody tr th:only-of-type {\n",
       "        vertical-align: middle;\n",
       "    }\n",
       "\n",
       "    .dataframe tbody tr th {\n",
       "        vertical-align: top;\n",
       "    }\n",
       "\n",
       "    .dataframe thead th {\n",
       "        text-align: right;\n",
       "    }\n",
       "</style>\n",
       "<table border=\"1\" class=\"dataframe\">\n",
       "  <thead>\n",
       "    <tr style=\"text-align: right;\">\n",
       "      <th></th>\n",
       "      <th>movieId</th>\n",
       "      <th>rating</th>\n",
       "      <th>timestamp</th>\n",
       "    </tr>\n",
       "    <tr>\n",
       "      <th>userId</th>\n",
       "      <th></th>\n",
       "      <th></th>\n",
       "      <th></th>\n",
       "    </tr>\n",
       "  </thead>\n",
       "  <tbody>\n",
       "    <tr>\n",
       "      <th>1</th>\n",
       "      <td>1891.168478</td>\n",
       "      <td>4.320652</td>\n",
       "      <td>9.649865e+08</td>\n",
       "    </tr>\n",
       "    <tr>\n",
       "      <th>2</th>\n",
       "      <td>70402.760000</td>\n",
       "      <td>3.940000</td>\n",
       "      <td>1.445715e+09</td>\n",
       "    </tr>\n",
       "    <tr>\n",
       "      <th>3</th>\n",
       "      <td>8394.733333</td>\n",
       "      <td>2.516667</td>\n",
       "      <td>1.306464e+09</td>\n",
       "    </tr>\n",
       "  </tbody>\n",
       "</table>\n",
       "</div>"
      ],
      "text/plain": [
       "             movieId    rating     timestamp\n",
       "userId                                      \n",
       "1        1891.168478  4.320652  9.649865e+08\n",
       "2       70402.760000  3.940000  1.445715e+09\n",
       "3        8394.733333  2.516667  1.306464e+09"
      ]
     },
     "execution_count": 41,
     "metadata": {},
     "output_type": "execute_result"
    }
   ],
   "source": [
    "train_user_df = train_df.groupby('userId').mean()\n",
    "\n",
    "train_user_df.head(3)"
   ]
  },
  {
   "cell_type": "code",
   "execution_count": 42,
   "id": "f6b1200d-06e3-4d91-86a9-9eaac20888a5",
   "metadata": {},
   "outputs": [],
   "source": [
    "test_df['user_avg_pred'] = test_df['userId'].apply(\n",
    "    lambda x : avg_rating_prediction(train_user_df,x)\n",
    ")"
   ]
  },
  {
   "cell_type": "code",
   "execution_count": 44,
   "id": "04e9d80f-474d-409a-8214-bfb2b0ba7cab",
   "metadata": {},
   "outputs": [],
   "source": [
    "user_pred_mse = mean_squared_error(\n",
    "    y_true = test_df['rating'],\n",
    "    y_pred = test_df['user_avg_pred']\n",
    ")\n",
    "user_pred_rmse = np.sqrt(user_pred_mse)"
   ]
  },
  {
   "cell_type": "code",
   "execution_count": 48,
   "id": "1a9e0909-59d1-4e44-b870-b96f5683faae",
   "metadata": {},
   "outputs": [
    {
     "data": {
      "text/plain": [
       "(0.8905889036428333, 0.9437101798978504)"
      ]
     },
     "execution_count": 48,
     "metadata": {},
     "output_type": "execute_result"
    }
   ],
   "source": [
    "user_pred_mse, user_pred_rmse\n",
    "# 0.1 떨여졌다 = 10%정도 향상\n",
    "# train과 test간에 정보 손실이 없다"
   ]
  },
  {
   "cell_type": "markdown",
   "id": "19f89132-77c7-48d0-a3bd-887c19af97b4",
   "metadata": {},
   "source": [
    "## Rule 기반 영화 평점 예측\n"
   ]
  },
  {
   "cell_type": "code",
   "execution_count": 49,
   "id": "1ec00c37-cf60-4fcc-aa26-e1fa57671597",
   "metadata": {},
   "outputs": [],
   "source": [
    "train_user_movie_matrix = train_df.pivot(\n",
    "    index = 'movieId',\n",
    "    columns = 'userId',\n",
    "    values = 'rating'\n",
    ").fillna(0)"
   ]
  },
  {
   "cell_type": "code",
   "execution_count": 53,
   "id": "09c21a32-9f6e-40f8-957a-33cc05339b8e",
   "metadata": {},
   "outputs": [
    {
     "data": {
      "text/html": [
       "<div>\n",
       "<style scoped>\n",
       "    .dataframe tbody tr th:only-of-type {\n",
       "        vertical-align: middle;\n",
       "    }\n",
       "\n",
       "    .dataframe tbody tr th {\n",
       "        vertical-align: top;\n",
       "    }\n",
       "\n",
       "    .dataframe thead th {\n",
       "        text-align: right;\n",
       "    }\n",
       "</style>\n",
       "<table border=\"1\" class=\"dataframe\">\n",
       "  <thead>\n",
       "    <tr style=\"text-align: right;\">\n",
       "      <th></th>\n",
       "      <th>(no genres listed)</th>\n",
       "      <th>Action</th>\n",
       "      <th>Adventure</th>\n",
       "      <th>Animation</th>\n",
       "      <th>Children</th>\n",
       "      <th>Comedy</th>\n",
       "      <th>Crime</th>\n",
       "      <th>Documentary</th>\n",
       "      <th>Drama</th>\n",
       "      <th>Fantasy</th>\n",
       "      <th>Film-Noir</th>\n",
       "      <th>Horror</th>\n",
       "      <th>IMAX</th>\n",
       "      <th>Musical</th>\n",
       "      <th>Mystery</th>\n",
       "      <th>Romance</th>\n",
       "      <th>Sci-Fi</th>\n",
       "      <th>Thriller</th>\n",
       "      <th>War</th>\n",
       "      <th>Western</th>\n",
       "    </tr>\n",
       "    <tr>\n",
       "      <th>movieId</th>\n",
       "      <th></th>\n",
       "      <th></th>\n",
       "      <th></th>\n",
       "      <th></th>\n",
       "      <th></th>\n",
       "      <th></th>\n",
       "      <th></th>\n",
       "      <th></th>\n",
       "      <th></th>\n",
       "      <th></th>\n",
       "      <th></th>\n",
       "      <th></th>\n",
       "      <th></th>\n",
       "      <th></th>\n",
       "      <th></th>\n",
       "      <th></th>\n",
       "      <th></th>\n",
       "      <th></th>\n",
       "      <th></th>\n",
       "      <th></th>\n",
       "    </tr>\n",
       "  </thead>\n",
       "  <tbody>\n",
       "    <tr>\n",
       "      <th>5943</th>\n",
       "      <td>0</td>\n",
       "      <td>0</td>\n",
       "      <td>0</td>\n",
       "      <td>0</td>\n",
       "      <td>0</td>\n",
       "      <td>1</td>\n",
       "      <td>0</td>\n",
       "      <td>0</td>\n",
       "      <td>0</td>\n",
       "      <td>0</td>\n",
       "      <td>0</td>\n",
       "      <td>0</td>\n",
       "      <td>0</td>\n",
       "      <td>0</td>\n",
       "      <td>0</td>\n",
       "      <td>1</td>\n",
       "      <td>0</td>\n",
       "      <td>0</td>\n",
       "      <td>0</td>\n",
       "      <td>0</td>\n",
       "    </tr>\n",
       "    <tr>\n",
       "      <th>2571</th>\n",
       "      <td>0</td>\n",
       "      <td>1</td>\n",
       "      <td>0</td>\n",
       "      <td>0</td>\n",
       "      <td>0</td>\n",
       "      <td>0</td>\n",
       "      <td>0</td>\n",
       "      <td>0</td>\n",
       "      <td>0</td>\n",
       "      <td>0</td>\n",
       "      <td>0</td>\n",
       "      <td>0</td>\n",
       "      <td>0</td>\n",
       "      <td>0</td>\n",
       "      <td>0</td>\n",
       "      <td>0</td>\n",
       "      <td>1</td>\n",
       "      <td>1</td>\n",
       "      <td>0</td>\n",
       "      <td>0</td>\n",
       "    </tr>\n",
       "    <tr>\n",
       "      <th>8958</th>\n",
       "      <td>0</td>\n",
       "      <td>0</td>\n",
       "      <td>0</td>\n",
       "      <td>0</td>\n",
       "      <td>0</td>\n",
       "      <td>0</td>\n",
       "      <td>0</td>\n",
       "      <td>0</td>\n",
       "      <td>1</td>\n",
       "      <td>0</td>\n",
       "      <td>0</td>\n",
       "      <td>0</td>\n",
       "      <td>0</td>\n",
       "      <td>0</td>\n",
       "      <td>0</td>\n",
       "      <td>0</td>\n",
       "      <td>0</td>\n",
       "      <td>0</td>\n",
       "      <td>0</td>\n",
       "      <td>0</td>\n",
       "    </tr>\n",
       "    <tr>\n",
       "      <th>2322</th>\n",
       "      <td>0</td>\n",
       "      <td>1</td>\n",
       "      <td>0</td>\n",
       "      <td>0</td>\n",
       "      <td>0</td>\n",
       "      <td>0</td>\n",
       "      <td>0</td>\n",
       "      <td>0</td>\n",
       "      <td>0</td>\n",
       "      <td>0</td>\n",
       "      <td>0</td>\n",
       "      <td>0</td>\n",
       "      <td>0</td>\n",
       "      <td>0</td>\n",
       "      <td>0</td>\n",
       "      <td>0</td>\n",
       "      <td>1</td>\n",
       "      <td>0</td>\n",
       "      <td>1</td>\n",
       "      <td>0</td>\n",
       "    </tr>\n",
       "    <tr>\n",
       "      <th>2959</th>\n",
       "      <td>0</td>\n",
       "      <td>1</td>\n",
       "      <td>0</td>\n",
       "      <td>0</td>\n",
       "      <td>0</td>\n",
       "      <td>0</td>\n",
       "      <td>1</td>\n",
       "      <td>0</td>\n",
       "      <td>1</td>\n",
       "      <td>0</td>\n",
       "      <td>0</td>\n",
       "      <td>0</td>\n",
       "      <td>0</td>\n",
       "      <td>0</td>\n",
       "      <td>0</td>\n",
       "      <td>0</td>\n",
       "      <td>0</td>\n",
       "      <td>1</td>\n",
       "      <td>0</td>\n",
       "      <td>0</td>\n",
       "    </tr>\n",
       "  </tbody>\n",
       "</table>\n",
       "</div>"
      ],
      "text/plain": [
       "         (no genres listed)  Action  Adventure  Animation  Children  Comedy  \\\n",
       "movieId                                                                       \n",
       "5943                      0       0          0          0         0       1   \n",
       "2571                      0       1          0          0         0       0   \n",
       "8958                      0       0          0          0         0       0   \n",
       "2322                      0       1          0          0         0       0   \n",
       "2959                      0       1          0          0         0       0   \n",
       "\n",
       "         Crime  Documentary  Drama  Fantasy  Film-Noir  Horror  IMAX  Musical  \\\n",
       "movieId                                                                         \n",
       "5943         0            0      0        0          0       0     0        0   \n",
       "2571         0            0      0        0          0       0     0        0   \n",
       "8958         0            0      1        0          0       0     0        0   \n",
       "2322         0            0      0        0          0       0     0        0   \n",
       "2959         1            0      1        0          0       0     0        0   \n",
       "\n",
       "         Mystery  Romance  Sci-Fi  Thriller  War  Western  \n",
       "movieId                                                    \n",
       "5943           0        1       0         0    0        0  \n",
       "2571           0        0       1         1    0        0  \n",
       "8958           0        0       0         0    0        0  \n",
       "2322           0        0       1         0    1        0  \n",
       "2959           0        0       0         1    0        0  "
      ]
     },
     "execution_count": 53,
     "metadata": {},
     "output_type": "execute_result"
    }
   ],
   "source": [
    "genres_df = movies_df['genres'].str.get_dummies(sep='|')\n",
    "genres_df = genres_df.loc[train_df.movieId.unique()]\n",
    "genres_df.head()"
   ]
  },
  {
   "cell_type": "code",
   "execution_count": 89,
   "id": "4c72f4f7-2d45-420b-b0d0-f066a92de0c8",
   "metadata": {},
   "outputs": [
    {
     "data": {
      "text/plain": [
       "movieId\n",
       "1    3.893491\n",
       "2    3.396341\n",
       "3    3.454545\n",
       "4    2.250000\n",
       "5    3.039474\n",
       "dtype: float64"
      ]
     },
     "execution_count": 89,
     "metadata": {},
     "output_type": "execute_result"
    }
   ],
   "source": [
    "train_movie_avg_ratings_df = train_user_movie_matrix.copy()\n",
    "train_movie_avg_ratings_df = train_movie_avg_ratings_df.replace(0,np.NaN)\n",
    "train_movie_avg_ratings_df = train_movie_avg_ratings_df.mean(axis = 1)\n",
    "train_movie_avg_ratings_df.head()"
   ]
  },
  {
   "cell_type": "code",
   "execution_count": 60,
   "id": "fd7107cd-5d3b-46d9-b76f-c6ce31037304",
   "metadata": {},
   "outputs": [],
   "source": [
    "genres_avg_ratings_df = pd.DataFrame(\n",
    "    index = genres_df.columns,columns = ['avg_ratings']\n",
    ")"
   ]
  },
  {
   "cell_type": "code",
   "execution_count": 94,
   "id": "2d7e355a-d6cb-403f-9f8f-839bdcf1d5cb",
   "metadata": {},
   "outputs": [
    {
     "data": {
      "text/html": [
       "<div>\n",
       "<style scoped>\n",
       "    .dataframe tbody tr th:only-of-type {\n",
       "        vertical-align: middle;\n",
       "    }\n",
       "\n",
       "    .dataframe tbody tr th {\n",
       "        vertical-align: top;\n",
       "    }\n",
       "\n",
       "    .dataframe thead th {\n",
       "        text-align: right;\n",
       "    }\n",
       "</style>\n",
       "<table border=\"1\" class=\"dataframe\">\n",
       "  <thead>\n",
       "    <tr style=\"text-align: right;\">\n",
       "      <th></th>\n",
       "      <th>avg_ratings</th>\n",
       "    </tr>\n",
       "  </thead>\n",
       "  <tbody>\n",
       "    <tr>\n",
       "      <th>(no genres listed)</th>\n",
       "      <td>3.33642</td>\n",
       "    </tr>\n",
       "    <tr>\n",
       "      <th>Action</th>\n",
       "      <td>3.11085</td>\n",
       "    </tr>\n",
       "    <tr>\n",
       "      <th>Adventure</th>\n",
       "      <td>3.230721</td>\n",
       "    </tr>\n",
       "    <tr>\n",
       "      <th>Animation</th>\n",
       "      <td>3.492258</td>\n",
       "    </tr>\n",
       "    <tr>\n",
       "      <th>Children</th>\n",
       "      <td>3.101232</td>\n",
       "    </tr>\n",
       "  </tbody>\n",
       "</table>\n",
       "</div>"
      ],
      "text/plain": [
       "                   avg_ratings\n",
       "(no genres listed)     3.33642\n",
       "Action                 3.11085\n",
       "Adventure             3.230721\n",
       "Animation             3.492258\n",
       "Children              3.101232"
      ]
     },
     "execution_count": 94,
     "metadata": {},
     "output_type": "execute_result"
    }
   ],
   "source": [
    "for genre in genres_avg_ratings_df.index:\n",
    "    genre_avg_rating = train_movie_avg_ratings_df.loc[genres_df[genres_df[genre].isin([1])].index].mean()\n",
    "    genres_avg_ratings_df.loc[genre]['avg_ratings'] = genre_avg_rating\n",
    "    \n",
    "genres_avg_ratings_df.head()\n"
   ]
  },
  {
   "cell_type": "code",
   "execution_count": 97,
   "id": "5dc48e3a-fab7-49c5-8884-36d519a0f08d",
   "metadata": {},
   "outputs": [],
   "source": [
    "def get_genre_avg_ratings(x):\n",
    "    # x is movieId\n",
    "    genres_list = movies_df.loc[x]['genres'].split('|')\n",
    "    rating = 0\n",
    "    for genre in genres_list:\n",
    "        rating += genres_avg_ratings_df.loc[genre]['avg_ratings']\n",
    "    \n",
    "    return rating / len(genres_list)"
   ]
  },
  {
   "cell_type": "code",
   "execution_count": 98,
   "id": "c2428787-0df0-4ab0-a2f6-b0e885b5138c",
   "metadata": {},
   "outputs": [
    {
     "name": "stderr",
     "output_type": "stream",
     "text": [
      "100%|██████████| 20168/20168 [00:05<00:00, 3761.89it/s]\n"
     ]
    }
   ],
   "source": [
    "tqdm.pandas()\n",
    "test_df['pred_rating_genre'] = test_df['movieId'].progress_apply(lambda x: get_genre_avg_ratings(x))"
   ]
  },
  {
   "cell_type": "code",
   "execution_count": 100,
   "id": "6ef39d47-7bef-455f-a11c-387403ca61ac",
   "metadata": {},
   "outputs": [],
   "source": [
    "genre_mse =mean_squared_error(\n",
    "    y_true = test_df['rating'],\n",
    "    y_pred = test_df['pred_rating_genre']\n",
    ")\n",
    "genre_rmse = np.sqrt(genre_mse)"
   ]
  },
  {
   "cell_type": "code",
   "execution_count": 102,
   "id": "855ff7d1-454a-497a-a246-423836ce2276",
   "metadata": {},
   "outputs": [
    {
     "data": {
      "text/plain": [
       "(1.1251906030478547, 1.0607500191128232)"
      ]
     },
     "execution_count": 102,
     "metadata": {},
     "output_type": "execute_result"
    }
   ],
   "source": [
    "genre_mse,genre_rmse\n",
    "#영화 평점기반의 예측은 userId 값보다 작으므로 user의 개별적 특성을 넣는 것이 중요하다"
   ]
  },
  {
   "cell_type": "markdown",
   "id": "fef487b3-4269-4b7c-abcc-850d70db06d6",
   "metadata": {},
   "source": [
    "## Rule 기반 영화 평점 예측 2"
   ]
  },
  {
   "cell_type": "code",
   "execution_count": 105,
   "id": "4ae1452a-7852-49c9-a2e6-98fdba167760",
   "metadata": {},
   "outputs": [
    {
     "data": {
      "text/html": [
       "<div>\n",
       "<style scoped>\n",
       "    .dataframe tbody tr th:only-of-type {\n",
       "        vertical-align: middle;\n",
       "    }\n",
       "\n",
       "    .dataframe tbody tr th {\n",
       "        vertical-align: top;\n",
       "    }\n",
       "\n",
       "    .dataframe thead th {\n",
       "        text-align: right;\n",
       "    }\n",
       "</style>\n",
       "<table border=\"1\" class=\"dataframe\">\n",
       "  <thead>\n",
       "    <tr style=\"text-align: right;\">\n",
       "      <th></th>\n",
       "      <th>avg_rating</th>\n",
       "      <th>std_rating</th>\n",
       "      <th>count_rating</th>\n",
       "    </tr>\n",
       "    <tr>\n",
       "      <th>userId</th>\n",
       "      <th></th>\n",
       "      <th></th>\n",
       "      <th></th>\n",
       "    </tr>\n",
       "  </thead>\n",
       "  <tbody>\n",
       "    <tr>\n",
       "      <th>1</th>\n",
       "      <td>4.320652</td>\n",
       "      <td>0.836600</td>\n",
       "      <td>184</td>\n",
       "    </tr>\n",
       "    <tr>\n",
       "      <th>2</th>\n",
       "      <td>3.940000</td>\n",
       "      <td>0.820569</td>\n",
       "      <td>25</td>\n",
       "    </tr>\n",
       "    <tr>\n",
       "      <th>3</th>\n",
       "      <td>2.516667</td>\n",
       "      <td>2.127340</td>\n",
       "      <td>30</td>\n",
       "    </tr>\n",
       "    <tr>\n",
       "      <th>4</th>\n",
       "      <td>3.631868</td>\n",
       "      <td>1.317823</td>\n",
       "      <td>182</td>\n",
       "    </tr>\n",
       "    <tr>\n",
       "      <th>5</th>\n",
       "      <td>3.636364</td>\n",
       "      <td>1.084498</td>\n",
       "      <td>33</td>\n",
       "    </tr>\n",
       "  </tbody>\n",
       "</table>\n",
       "</div>"
      ],
      "text/plain": [
       "        avg_rating  std_rating  count_rating\n",
       "userId                                      \n",
       "1         4.320652    0.836600           184\n",
       "2         3.940000    0.820569            25\n",
       "3         2.516667    2.127340            30\n",
       "4         3.631868    1.317823           182\n",
       "5         3.636364    1.084498            33"
      ]
     },
     "execution_count": 105,
     "metadata": {},
     "output_type": "execute_result"
    }
   ],
   "source": [
    "train_user_info_df = pd.DataFrame({\n",
    "    'avg_rating':train_df.groupby('userId')['rating'].mean(),\n",
    "    'std_rating':train_df.groupby('userId')['rating'].std(),\n",
    "    'count_rating':train_df.groupby('userId')['rating'].count()\n",
    "})\n",
    "train_user_info_df.head()"
   ]
  },
  {
   "cell_type": "code",
   "execution_count": 106,
   "id": "a729a735-7adc-4cba-a2d4-abc9bafaf0df",
   "metadata": {},
   "outputs": [],
   "source": [
    "min_count= train_user_info_df.count_rating.min()\n",
    "max_count = train_user_info_df.count_rating.max()\n",
    "avg_count = train_user_info_df.count_rating.mean()"
   ]
  },
  {
   "cell_type": "code",
   "execution_count": 109,
   "id": "97e4a634-d1a3-44d4-84a8-bb2e02e4d45f",
   "metadata": {},
   "outputs": [
    {
     "data": {
      "text/html": [
       "<div>\n",
       "<style scoped>\n",
       "    .dataframe tbody tr th:only-of-type {\n",
       "        vertical-align: middle;\n",
       "    }\n",
       "\n",
       "    .dataframe tbody tr th {\n",
       "        vertical-align: top;\n",
       "    }\n",
       "\n",
       "    .dataframe thead th {\n",
       "        text-align: right;\n",
       "    }\n",
       "</style>\n",
       "<table border=\"1\" class=\"dataframe\">\n",
       "  <thead>\n",
       "    <tr style=\"text-align: right;\">\n",
       "      <th></th>\n",
       "      <th>avg_rating</th>\n",
       "      <th>std_rating</th>\n",
       "      <th>count_rating</th>\n",
       "      <th>weights</th>\n",
       "    </tr>\n",
       "    <tr>\n",
       "      <th>userId</th>\n",
       "      <th></th>\n",
       "      <th></th>\n",
       "      <th></th>\n",
       "      <th></th>\n",
       "    </tr>\n",
       "  </thead>\n",
       "  <tbody>\n",
       "    <tr>\n",
       "      <th>1</th>\n",
       "      <td>4.320652</td>\n",
       "      <td>0.836600</td>\n",
       "      <td>184</td>\n",
       "      <td>0.023995</td>\n",
       "    </tr>\n",
       "    <tr>\n",
       "      <th>2</th>\n",
       "      <td>3.940000</td>\n",
       "      <td>0.820569</td>\n",
       "      <td>25</td>\n",
       "      <td>-0.049718</td>\n",
       "    </tr>\n",
       "    <tr>\n",
       "      <th>3</th>\n",
       "      <td>2.516667</td>\n",
       "      <td>2.127340</td>\n",
       "      <td>30</td>\n",
       "      <td>-0.047400</td>\n",
       "    </tr>\n",
       "    <tr>\n",
       "      <th>4</th>\n",
       "      <td>3.631868</td>\n",
       "      <td>1.317823</td>\n",
       "      <td>182</td>\n",
       "      <td>0.023068</td>\n",
       "    </tr>\n",
       "    <tr>\n",
       "      <th>5</th>\n",
       "      <td>3.636364</td>\n",
       "      <td>1.084498</td>\n",
       "      <td>33</td>\n",
       "      <td>-0.046010</td>\n",
       "    </tr>\n",
       "  </tbody>\n",
       "</table>\n",
       "</div>"
      ],
      "text/plain": [
       "        avg_rating  std_rating  count_rating   weights\n",
       "userId                                                \n",
       "1         4.320652    0.836600           184  0.023995\n",
       "2         3.940000    0.820569            25 -0.049718\n",
       "3         2.516667    2.127340            30 -0.047400\n",
       "4         3.631868    1.317823           182  0.023068\n",
       "5         3.636364    1.084498            33 -0.046010"
      ]
     },
     "execution_count": 109,
     "metadata": {},
     "output_type": "execute_result"
    }
   ],
   "source": [
    "train_user_info_df['weights'] = train_user_info_df['count_rating'].apply(\n",
    "    lambda x : (x-avg_count)/(max_count-min_count)\n",
    ")\n",
    "# Normalization 공식\n",
    "# 가중치 column을 통해 해당 유저의 평가 신뢰성 얻을 수 있음\n",
    "train_user_info_df.head()"
   ]
  },
  {
   "cell_type": "code",
   "execution_count": 111,
   "id": "01f8db9e-b88d-4a30-810a-e724e5f7d4d7",
   "metadata": {},
   "outputs": [
    {
     "data": {
      "text/html": [
       "<div>\n",
       "<style scoped>\n",
       "    .dataframe tbody tr th:only-of-type {\n",
       "        vertical-align: middle;\n",
       "    }\n",
       "\n",
       "    .dataframe tbody tr th {\n",
       "        vertical-align: top;\n",
       "    }\n",
       "\n",
       "    .dataframe thead th {\n",
       "        text-align: right;\n",
       "    }\n",
       "</style>\n",
       "<table border=\"1\" class=\"dataframe\">\n",
       "  <thead>\n",
       "    <tr style=\"text-align: right;\">\n",
       "      <th></th>\n",
       "      <th>avg_rating</th>\n",
       "      <th>std_rating</th>\n",
       "      <th>count_rating</th>\n",
       "      <th>weights</th>\n",
       "    </tr>\n",
       "    <tr>\n",
       "      <th>userId</th>\n",
       "      <th></th>\n",
       "      <th></th>\n",
       "      <th></th>\n",
       "      <th></th>\n",
       "    </tr>\n",
       "  </thead>\n",
       "  <tbody>\n",
       "    <tr>\n",
       "      <th>1</th>\n",
       "      <td>0.822227</td>\n",
       "      <td>0.393261</td>\n",
       "      <td>0.079740</td>\n",
       "      <td>0.079740</td>\n",
       "    </tr>\n",
       "    <tr>\n",
       "      <th>2</th>\n",
       "      <td>0.722617</td>\n",
       "      <td>0.385725</td>\n",
       "      <td>0.006027</td>\n",
       "      <td>0.006027</td>\n",
       "    </tr>\n",
       "    <tr>\n",
       "      <th>3</th>\n",
       "      <td>0.350156</td>\n",
       "      <td>1.000000</td>\n",
       "      <td>0.008345</td>\n",
       "      <td>0.008345</td>\n",
       "    </tr>\n",
       "    <tr>\n",
       "      <th>4</th>\n",
       "      <td>0.641984</td>\n",
       "      <td>0.619470</td>\n",
       "      <td>0.078813</td>\n",
       "      <td>0.078813</td>\n",
       "    </tr>\n",
       "    <tr>\n",
       "      <th>5</th>\n",
       "      <td>0.643161</td>\n",
       "      <td>0.509791</td>\n",
       "      <td>0.009736</td>\n",
       "      <td>0.009736</td>\n",
       "    </tr>\n",
       "    <tr>\n",
       "      <th>...</th>\n",
       "      <td>...</td>\n",
       "      <td>...</td>\n",
       "      <td>...</td>\n",
       "      <td>...</td>\n",
       "    </tr>\n",
       "    <tr>\n",
       "      <th>606</th>\n",
       "      <td>0.646655</td>\n",
       "      <td>0.345449</td>\n",
       "      <td>0.404729</td>\n",
       "      <td>0.404729</td>\n",
       "    </tr>\n",
       "    <tr>\n",
       "      <th>607</th>\n",
       "      <td>0.678762</td>\n",
       "      <td>0.449188</td>\n",
       "      <td>0.061660</td>\n",
       "      <td>0.061660</td>\n",
       "    </tr>\n",
       "    <tr>\n",
       "      <th>608</th>\n",
       "      <td>0.514806</td>\n",
       "      <td>0.503682</td>\n",
       "      <td>0.302735</td>\n",
       "      <td>0.302735</td>\n",
       "    </tr>\n",
       "    <tr>\n",
       "      <th>609</th>\n",
       "      <td>0.548824</td>\n",
       "      <td>0.213816</td>\n",
       "      <td>0.007881</td>\n",
       "      <td>0.007881</td>\n",
       "    </tr>\n",
       "    <tr>\n",
       "      <th>610</th>\n",
       "      <td>0.654242</td>\n",
       "      <td>0.406005</td>\n",
       "      <td>0.475661</td>\n",
       "      <td>0.475661</td>\n",
       "    </tr>\n",
       "  </tbody>\n",
       "</table>\n",
       "<p>610 rows × 4 columns</p>\n",
       "</div>"
      ],
      "text/plain": [
       "        avg_rating  std_rating  count_rating   weights\n",
       "userId                                                \n",
       "1         0.822227    0.393261      0.079740  0.079740\n",
       "2         0.722617    0.385725      0.006027  0.006027\n",
       "3         0.350156    1.000000      0.008345  0.008345\n",
       "4         0.641984    0.619470      0.078813  0.078813\n",
       "5         0.643161    0.509791      0.009736  0.009736\n",
       "...            ...         ...           ...       ...\n",
       "606       0.646655    0.345449      0.404729  0.404729\n",
       "607       0.678762    0.449188      0.061660  0.061660\n",
       "608       0.514806    0.503682      0.302735  0.302735\n",
       "609       0.548824    0.213816      0.007881  0.007881\n",
       "610       0.654242    0.406005      0.475661  0.475661\n",
       "\n",
       "[610 rows x 4 columns]"
      ]
     },
     "execution_count": 111,
     "metadata": {},
     "output_type": "execute_result"
    }
   ],
   "source": [
    "from sklearn import preprocessing\n",
    "\n",
    "min_max_scaler = preprocessing.MinMaxScaler()\n",
    "np_scaled = min_max_scaler.fit_transform(train_user_info_df)\n",
    "df_normalized = pd.DataFrame(np_scaled, columns = train_user_info_df.columns, index=train_user_info_df.index)\n",
    "df_normalized\n",
    "#이미 평가 점수가 고정이라 큰 의미는 없음"
   ]
  },
  {
   "cell_type": "code",
   "execution_count": 114,
   "id": "c192a94f-79d8-471d-aad4-81a96ae78f0d",
   "metadata": {},
   "outputs": [
    {
     "data": {
      "text/html": [
       "<div>\n",
       "<style scoped>\n",
       "    .dataframe tbody tr th:only-of-type {\n",
       "        vertical-align: middle;\n",
       "    }\n",
       "\n",
       "    .dataframe tbody tr th {\n",
       "        vertical-align: top;\n",
       "    }\n",
       "\n",
       "    .dataframe thead th {\n",
       "        text-align: right;\n",
       "    }\n",
       "</style>\n",
       "<table border=\"1\" class=\"dataframe\">\n",
       "  <thead>\n",
       "    <tr style=\"text-align: right;\">\n",
       "      <th></th>\n",
       "      <th>userId</th>\n",
       "      <th>movieId</th>\n",
       "      <th>rating</th>\n",
       "      <th>timestamp</th>\n",
       "      <th>random_rating_pred</th>\n",
       "      <th>pred_rating_movie</th>\n",
       "      <th>user_avg_pred</th>\n",
       "      <th>pred_rating_genre</th>\n",
       "      <th>pred_rating_normalized</th>\n",
       "    </tr>\n",
       "  </thead>\n",
       "  <tbody>\n",
       "    <tr>\n",
       "      <th>99731</th>\n",
       "      <td>610</td>\n",
       "      <td>3527</td>\n",
       "      <td>5.0</td>\n",
       "      <td>1479545223</td>\n",
       "      <td>2.5</td>\n",
       "      <td>3.604167</td>\n",
       "      <td>3.678709</td>\n",
       "      <td>3.138325</td>\n",
       "      <td>3.271208</td>\n",
       "    </tr>\n",
       "    <tr>\n",
       "      <th>97583</th>\n",
       "      <td>606</td>\n",
       "      <td>1250</td>\n",
       "      <td>3.5</td>\n",
       "      <td>1171376891</td>\n",
       "      <td>4.5</td>\n",
       "      <td>4.180556</td>\n",
       "      <td>3.649718</td>\n",
       "      <td>3.410377</td>\n",
       "      <td>3.233275</td>\n",
       "    </tr>\n",
       "    <tr>\n",
       "      <th>38197</th>\n",
       "      <td>262</td>\n",
       "      <td>213</td>\n",
       "      <td>5.0</td>\n",
       "      <td>840310907</td>\n",
       "      <td>3.0</td>\n",
       "      <td>3.750000</td>\n",
       "      <td>2.925000</td>\n",
       "      <td>3.429093</td>\n",
       "      <td>2.285047</td>\n",
       "    </tr>\n",
       "    <tr>\n",
       "      <th>11474</th>\n",
       "      <td>68</td>\n",
       "      <td>69406</td>\n",
       "      <td>3.0</td>\n",
       "      <td>1261622505</td>\n",
       "      <td>2.0</td>\n",
       "      <td>3.571429</td>\n",
       "      <td>3.229331</td>\n",
       "      <td>3.267870</td>\n",
       "      <td>2.683236</td>\n",
       "    </tr>\n",
       "    <tr>\n",
       "      <th>34105</th>\n",
       "      <td>232</td>\n",
       "      <td>4728</td>\n",
       "      <td>3.0</td>\n",
       "      <td>1218166950</td>\n",
       "      <td>1.5</td>\n",
       "      <td>2.769231</td>\n",
       "      <td>3.242268</td>\n",
       "      <td>3.181480</td>\n",
       "      <td>2.700164</td>\n",
       "    </tr>\n",
       "    <tr>\n",
       "      <th>...</th>\n",
       "      <td>...</td>\n",
       "      <td>...</td>\n",
       "      <td>...</td>\n",
       "      <td>...</td>\n",
       "      <td>...</td>\n",
       "      <td>...</td>\n",
       "      <td>...</td>\n",
       "      <td>...</td>\n",
       "      <td>...</td>\n",
       "    </tr>\n",
       "    <tr>\n",
       "      <th>41080</th>\n",
       "      <td>279</td>\n",
       "      <td>593</td>\n",
       "      <td>4.0</td>\n",
       "      <td>1506394242</td>\n",
       "      <td>2.0</td>\n",
       "      <td>4.127907</td>\n",
       "      <td>3.666667</td>\n",
       "      <td>3.132440</td>\n",
       "      <td>3.255452</td>\n",
       "    </tr>\n",
       "    <tr>\n",
       "      <th>4897</th>\n",
       "      <td>31</td>\n",
       "      <td>780</td>\n",
       "      <td>4.0</td>\n",
       "      <td>850466616</td>\n",
       "      <td>0.5</td>\n",
       "      <td>3.470760</td>\n",
       "      <td>3.911765</td>\n",
       "      <td>3.161424</td>\n",
       "      <td>3.576141</td>\n",
       "    </tr>\n",
       "    <tr>\n",
       "      <th>8023</th>\n",
       "      <td>56</td>\n",
       "      <td>410</td>\n",
       "      <td>3.0</td>\n",
       "      <td>835799188</td>\n",
       "      <td>4.0</td>\n",
       "      <td>3.131148</td>\n",
       "      <td>3.837838</td>\n",
       "      <td>3.174323</td>\n",
       "      <td>3.479414</td>\n",
       "    </tr>\n",
       "    <tr>\n",
       "      <th>77467</th>\n",
       "      <td>483</td>\n",
       "      <td>2291</td>\n",
       "      <td>4.0</td>\n",
       "      <td>1415579167</td>\n",
       "      <td>3.5</td>\n",
       "      <td>3.734375</td>\n",
       "      <td>3.598940</td>\n",
       "      <td>3.341203</td>\n",
       "      <td>3.166837</td>\n",
       "    </tr>\n",
       "    <tr>\n",
       "      <th>99662</th>\n",
       "      <td>610</td>\n",
       "      <td>1953</td>\n",
       "      <td>5.0</td>\n",
       "      <td>1493850274</td>\n",
       "      <td>5.0</td>\n",
       "      <td>3.822581</td>\n",
       "      <td>3.678709</td>\n",
       "      <td>3.199247</td>\n",
       "      <td>3.271208</td>\n",
       "    </tr>\n",
       "  </tbody>\n",
       "</table>\n",
       "<p>20168 rows × 9 columns</p>\n",
       "</div>"
      ],
      "text/plain": [
       "       userId  movieId  rating   timestamp  random_rating_pred  \\\n",
       "99731     610     3527     5.0  1479545223                 2.5   \n",
       "97583     606     1250     3.5  1171376891                 4.5   \n",
       "38197     262      213     5.0   840310907                 3.0   \n",
       "11474      68    69406     3.0  1261622505                 2.0   \n",
       "34105     232     4728     3.0  1218166950                 1.5   \n",
       "...       ...      ...     ...         ...                 ...   \n",
       "41080     279      593     4.0  1506394242                 2.0   \n",
       "4897       31      780     4.0   850466616                 0.5   \n",
       "8023       56      410     3.0   835799188                 4.0   \n",
       "77467     483     2291     4.0  1415579167                 3.5   \n",
       "99662     610     1953     5.0  1493850274                 5.0   \n",
       "\n",
       "       pred_rating_movie  user_avg_pred  pred_rating_genre  \\\n",
       "99731           3.604167       3.678709           3.138325   \n",
       "97583           4.180556       3.649718           3.410377   \n",
       "38197           3.750000       2.925000           3.429093   \n",
       "11474           3.571429       3.229331           3.267870   \n",
       "34105           2.769231       3.242268           3.181480   \n",
       "...                  ...            ...                ...   \n",
       "41080           4.127907       3.666667           3.132440   \n",
       "4897            3.470760       3.911765           3.161424   \n",
       "8023            3.131148       3.837838           3.174323   \n",
       "77467           3.734375       3.598940           3.341203   \n",
       "99662           3.822581       3.678709           3.199247   \n",
       "\n",
       "       pred_rating_normalized  \n",
       "99731                3.271208  \n",
       "97583                3.233275  \n",
       "38197                2.285047  \n",
       "11474                2.683236  \n",
       "34105                2.700164  \n",
       "...                       ...  \n",
       "41080                3.255452  \n",
       "4897                 3.576141  \n",
       "8023                 3.479414  \n",
       "77467                3.166837  \n",
       "99662                3.271208  \n",
       "\n",
       "[20168 rows x 9 columns]"
      ]
     },
     "execution_count": 114,
     "metadata": {},
     "output_type": "execute_result"
    }
   ],
   "source": [
    "df_normalized['normalized_avg_ratings'] = df_normalized['avg_rating'] * 5\n",
    "\n",
    "test_df['pred_rating_normalized'] = test_df['userId'].apply(lambda x: df_normalized.loc[x]['normalized_avg_ratings'])\n",
    "test_df"
   ]
  },
  {
   "cell_type": "code",
   "execution_count": 115,
   "id": "c3fcc560-4f04-40ce-9d3b-123f1e9667dc",
   "metadata": {},
   "outputs": [],
   "source": [
    "nomal_mse = mean_squared_error(\n",
    "    y_true = test_df['rating'],\n",
    "    y_pred = test_df['pred_rating_normalized']\n",
    ")\n",
    "nomal_rmse = np.sqrt(nomal_mse)"
   ]
  },
  {
   "cell_type": "code",
   "execution_count": 116,
   "id": "49193419-5b7a-4cfe-acb1-63f4377e5d6c",
   "metadata": {},
   "outputs": [
    {
     "data": {
      "text/plain": [
       "(1.120579096060227, 1.05857408624065)"
      ]
     },
     "execution_count": 116,
     "metadata": {},
     "output_type": "execute_result"
    }
   ],
   "source": [
    "nomal_mse,nomal_rmse"
   ]
  },
  {
   "cell_type": "code",
   "execution_count": null,
   "id": "9c927aa7-559b-43ef-870e-23169dea0e4d",
   "metadata": {},
   "outputs": [],
   "source": []
  }
 ],
 "metadata": {
  "kernelspec": {
   "display_name": "Python 3",
   "language": "python",
   "name": "python3"
  },
  "language_info": {
   "codemirror_mode": {
    "name": "ipython",
    "version": 3
   },
   "file_extension": ".py",
   "mimetype": "text/x-python",
   "name": "python",
   "nbconvert_exporter": "python",
   "pygments_lexer": "ipython3",
   "version": "3.8.8"
  }
 },
 "nbformat": 4,
 "nbformat_minor": 5
}
